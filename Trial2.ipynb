{
  "nbformat": 4,
  "nbformat_minor": 0,
  "metadata": {
    "colab": {
      "name": "Untitled0.ipynb",
      "provenance": [],
      "authorship_tag": "ABX9TyNTgxz7oM8l1O8DlezByLw5",
      "include_colab_link": true
    },
    "kernelspec": {
      "name": "python3",
      "display_name": "Python 3"
    }
  },
  "cells": [
    {
      "cell_type": "markdown",
      "metadata": {
        "id": "view-in-github",
        "colab_type": "text"
      },
      "source": [
        "<a href=\"https://colab.research.google.com/github/middletonj1/Jame_Trials_Public/blob/master/Trial2.ipynb\" target=\"_parent\"><img src=\"https://colab.research.google.com/assets/colab-badge.svg\" alt=\"Open In Colab\"/></a>"
      ]
    },
    {
      "cell_type": "code",
      "metadata": {
        "id": "zZBDqTqo-X0D",
        "colab_type": "code",
        "outputId": "81b32e05-6988-46cb-89b4-9803c04499fe",
        "colab": {
          "base_uri": "https://localhost:8080/",
          "height": 386
        }
      },
      "source": [
        "# Make sure that you have all these libaries available to run the code successfully\n",
        "%tensorflow_version 2.x\n",
        "!pip install quandl\n",
        "from pandas_datareader import data\n",
        "import matplotlib.pyplot as plt\n",
        "import pandas as pd\n",
        "import datetime as dt\n",
        "import urllib.request, json \n",
        "import os\n",
        "import quandl\n",
        "import numpy as np\n",
        "import tensorflow as tf # This code has been tested with TensorFlow 1.6\n",
        "from sklearn.preprocessing import MinMaxScaler\n"
      ],
      "execution_count": 4,
      "outputs": [
        {
          "output_type": "stream",
          "text": [
            "Collecting quandl\n",
            "  Downloading https://files.pythonhosted.org/packages/07/ab/8cd479fba8a9b197a43a0d55dd534b066fb8e5a0a04b5c0384cbc5d663aa/Quandl-3.5.0-py2.py3-none-any.whl\n",
            "Requirement already satisfied: requests>=2.7.0 in /tensorflow-2.1.0/python3.6 (from quandl) (2.22.0)\n",
            "Requirement already satisfied: pandas>=0.14 in /usr/local/lib/python3.6/dist-packages (from quandl) (0.25.3)\n",
            "Requirement already satisfied: python-dateutil in /usr/local/lib/python3.6/dist-packages (from quandl) (2.6.1)\n",
            "Requirement already satisfied: six in /tensorflow-2.1.0/python3.6 (from quandl) (1.14.0)\n",
            "Collecting inflection>=0.3.1\n",
            "  Downloading https://files.pythonhosted.org/packages/d5/35/a6eb45b4e2356fe688b21570864d4aa0d0a880ce387defe9c589112077f8/inflection-0.3.1.tar.gz\n",
            "Requirement already satisfied: numpy>=1.8 in /tensorflow-2.1.0/python3.6 (from quandl) (1.18.1)\n",
            "Requirement already satisfied: more-itertools in /usr/local/lib/python3.6/dist-packages (from quandl) (8.2.0)\n",
            "Requirement already satisfied: chardet<3.1.0,>=3.0.2 in /tensorflow-2.1.0/python3.6 (from requests>=2.7.0->quandl) (3.0.4)\n",
            "Requirement already satisfied: idna<2.9,>=2.5 in /tensorflow-2.1.0/python3.6 (from requests>=2.7.0->quandl) (2.8)\n",
            "Requirement already satisfied: certifi>=2017.4.17 in /tensorflow-2.1.0/python3.6 (from requests>=2.7.0->quandl) (2019.11.28)\n",
            "Requirement already satisfied: urllib3!=1.25.0,!=1.25.1,<1.26,>=1.21.1 in /tensorflow-2.1.0/python3.6 (from requests>=2.7.0->quandl) (1.25.8)\n",
            "Requirement already satisfied: pytz>=2017.2 in /usr/local/lib/python3.6/dist-packages (from pandas>=0.14->quandl) (2018.9)\n",
            "Building wheels for collected packages: inflection\n",
            "  Building wheel for inflection (setup.py) ... \u001b[?25l\u001b[?25hdone\n",
            "  Created wheel for inflection: filename=inflection-0.3.1-cp36-none-any.whl size=6077 sha256=17d1f4ec9a49d9662338d12a9989444bd286c0ec78b9f5dd654753bf458e00dc\n",
            "  Stored in directory: /root/.cache/pip/wheels/9f/5a/d3/6fc3bf6516d2a3eb7e18f9f28b472110b59325f3f258fe9211\n",
            "Successfully built inflection\n",
            "Installing collected packages: inflection, quandl\n",
            "Successfully installed inflection-0.3.1 quandl-3.5.0\n"
          ],
          "name": "stdout"
        }
      ]
    },
    {
      "cell_type": "code",
      "metadata": {
        "colab_type": "code",
        "id": "NeWVBhf1VxlH",
        "outputId": "11fb9c93-f158-428a-a5f9-ea606bb57c48",
        "colab": {
          "base_uri": "https://localhost:8080/",
          "height": 269
        }
      },
      "source": [
        "quandl.ApiConfig.api_key = '94nMJrZnW1sCyPLjXzRB'\n",
        "green_companies = quandl.get(\"NASDAQOMX/QGREEN\")\n",
        "EON = quandl.get(\"FSE/EON_X\")\n",
        "print(green_companies)"
      ],
      "execution_count": 7,
      "outputs": [
        {
          "output_type": "stream",
          "text": [
            "            Index Value     High  ...  Total Market Value  Dividend Market Value\n",
            "Trade Date                        ...                                           \n",
            "2010-09-22       996.14  1005.80  ...        1.160097e+12             48148043.0\n",
            "2010-09-23       987.34   996.14  ...        1.149847e+12                    0.0\n",
            "2010-09-24      1013.22  1013.82  ...        1.179982e+12             30983163.0\n",
            "2010-09-27      1009.06  1013.53  ...        1.175145e+12                    0.0\n",
            "2010-09-28      1013.96  1015.30  ...        1.180850e+12            546850186.0\n",
            "...                 ...      ...  ...                 ...                    ...\n",
            "2020-01-29      2033.27  2040.11  ...        2.833461e+12                    0.0\n",
            "2020-01-30      2041.36  2042.16  ...        2.844736e+12             58297467.0\n",
            "2020-01-31      2012.67  2042.84  ...        2.804757e+12              9416072.0\n",
            "2020-02-03      2038.44  2041.79  ...        2.840662e+12                    0.0\n",
            "2020-02-04          NaN     0.00  ...                 NaN                    0.0\n",
            "\n",
            "[2416 rows x 5 columns]\n"
          ],
          "name": "stdout"
        }
      ]
    }
  ]
}